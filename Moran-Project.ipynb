{
 "cells": [
  {
   "cell_type": "markdown",
   "metadata": {},
   "source": [
    "# CMSC471 Artificial Intelligence\n",
    "\n",
    "# Project Final Submission\n",
    "\n",
    "## \"Catch Me If You Can: Using ML to Detect Financial Fraud\"\n",
    "\n",
    "## Problem Description\n",
    "\n",
    "This project uses binary classification to organize financial transactions into one of two classes: fraud and not-fraud. This project uses both simple binary classification with SciKit Learn and neural networks with Tensorflow. \n",
    "\n",
    "The background to this project involves a particular way that financial fraud occurs: when a cyber criminal obtains access to a victim's account and drains the victim's funds into the criminal's own account. Incident response for this particular fraud is difficult. For financial analysts, sifting through records of transactions for illicit activity can be a needle-in-a-haystack problem. This ML project proposes a potential solution: train a model to detect behavior that is suspicious and flag it for further review by an expert analyst.\n",
    "\n",
    "For this dataset, we are given the following problem: we have two accounts (an origin account and a destination account), the type of transaction that is made from the origin account to the destination account, the balance change from the origin account to the destination account, the amount transmitted, and a flag indicating whether the movement of crash to/from one account to another is fraudulent (that is, if the attacker - the destination account - is draining the origin's account and cashing out with $200.00 or more, the transaction will be flagged as fraudulent). \n",
    "\n",
    "A good result for this experiment would be to have a model that has a reasonably high recall rate (say, above 0.50). The higher the recall rate, the better the model is at avoiding False Negatives - meaning, the model is less likely to classify truly fraudulent transactions as 'not-fraud'. In the trade-off between recall and precision, this is imperative: a system that is sensitive and alerts financial analysts to suspicious activity that is not in fact truly fraudulent is more likely to capture truly fraudulent activity; however, a system that classifies truly fraudulent transactions as 'not-fraudulent' can only hurt the institution. A core objective of this project, then, is to get a model with a high recall rate. \n",
    "\n",
    "\n",
    "## Motivation\n",
    "\n",
    "I find this particular problem interesting for two reasons: 1) I am an employee at T. Rowe Price, one of the top financial asset managers in the world that manages over 1 trillion U.S. dollars of financial assets and has strict policies on financial fraud; and, 2) I am invested in cyber security as a means for protecting customer accounts.\n",
    "\n",
    "\n",
    "## Dataset\n",
    "\n",
    "\n",
    "Link to dataset source: https://www.kaggle.com/ntnu-testimon/paysim1/download\n",
    "\n",
    "The size of the dataset is 471 MB. This size has been approved by Professor Fereydoon Vafaei.\n",
    "\n",
    "### Label/target description: \n",
    "The most important part of this dataset is the \"isFraud\" label. This will be used to label certain activity as fraudulent or not-fraudulent during Training.\n",
    "\n",
    "### Feature description: \n",
    "The dataset includes the following features organized in columns for ML Classification:\n",
    "\n",
    "The \"Type\" of transaction made from one account to another (i.e. Payment, Debit, Cash-Out, etc.).\n",
    "\n",
    "The \"Amount\" of cash transmitted from one account the another (from the Origin to the Destination).\n",
    "\n",
    "The Origin Name and Destination Name (respective, \"nameOrig\" and \"nameDest\"). This is supposed to be the two accounts that we are focused on.\n",
    "\n",
    "A change in balance for both the Origin account and Destination account (oldbalanceOrg, newbalanceOrg, oldbalanceDest, newbalanceDest).\n",
    "\n",
    "A \"isFlaggedFraud\" column. This column does not appear to serve any real purpose in either Training or Testing. It appears that this is used to record whether or not the model was able to flag fraudulent accounts correctly or not inside the original CSV file after the experiment has been run. This column will be dropped. \n",
    "\n",
    "See below for data and library importation."
   ]
  },
  {
   "cell_type": "code",
   "execution_count": 1,
   "metadata": {},
   "outputs": [
    {
     "name": "stdout",
     "output_type": "stream",
     "text": [
      "(30000, 11)\n"
     ]
    }
   ],
   "source": [
    "# Import necessary Python, sklearn and/or tensorflow/keras modules for loading the dataset\n",
    "import pandas as pd\n",
    "import numpy as np\n",
    "from sklearn.model_selection import train_test_split\n",
    "\n",
    "from sklearn.linear_model import SGDClassifier\n",
    "from sklearn.ensemble import RandomForestClassifier\n",
    "from sklearn.linear_model import LogisticRegression\n",
    "\n",
    "from sklearn.metrics import accuracy_score\n",
    "from sklearn.metrics import recall_score\n",
    "from sklearn.metrics import precision_score\n",
    "\n",
    "from sklearn.model_selection import cross_val_score\n",
    "import sklearn.metrics as metrics\n",
    "\n",
    "import tensorflow as tf\n",
    "\n",
    "import matplotlib.pyplot as plt\n",
    "%matplotlib inline\n",
    "\n",
    "import warnings\n",
    "warnings.filterwarnings(\"ignore\")\n",
    "\n",
    "\n",
    "# Load the data\n",
    "fraud_data = pd.read_csv('FraudData.csv', sep=',', header=0, index_col=False)\n",
    "\n",
    "# Only 30,000 entries of the 6 million available entries will be used (see Discussion section for why)\n",
    "fraud_data = fraud_data.head(30000)\n",
    "\n",
    "# Print the data-shape\n",
    "print(fraud_data.shape)"
   ]
  },
  {
   "cell_type": "markdown",
   "metadata": {},
   "source": [
    "## Data Preprocessing\n",
    "\n",
    "For the data pre-processing steps, the following must occur before we can even use SciKit Learn or Tensorflows Neural Networks:\n",
    "\n",
    "1) The column known as \"isFlaggedFraud\" must be dropped. There is no apparent need for this feature. It is just a column of 0s that appear to be used by researchers for physical recordings of the predictions made by the fitted models. It cannot build the models in any meaningful way.\n",
    "\n",
    "2) The data-types that are classified as \"objects\" must be converted to an integer or float data-type in order to be fitted to the model.\n",
    "\n",
    "3) Two variables must be created: one that will hold the features, another that will hold the label.\n",
    "\n",
    "4) The variables in part 3 above will be used to split the data set so that 67% of the full data-set is used to train the model, with the other 33% being used for testing. "
   ]
  },
  {
   "cell_type": "code",
   "execution_count": 2,
   "metadata": {},
   "outputs": [
    {
     "name": "stdout",
     "output_type": "stream",
     "text": [
      "(20100, 9)\n",
      "(20100,)\n",
      "(9900, 9)\n",
      "(9900,)\n"
     ]
    }
   ],
   "source": [
    "# 1) Drop the isFlaggedFraud column - it's not necessary here\n",
    "fraud_data.drop('isFlaggedFraud', axis=1, inplace=True)\n",
    "\n",
    "# 2) Convert the objects\n",
    "fraud_data['type'] = pd.Categorical(fraud_data.type).codes\n",
    "fraud_data['nameOrig'] = pd.Categorical(fraud_data.nameOrig).codes\n",
    "fraud_data['nameDest'] = pd.Categorical(fraud_data.nameDest).codes\n",
    "\n",
    "# 3) Create X and y variables\n",
    "X = fraud_data.drop('isFraud', axis=1)\n",
    "y = fraud_data['isFraud']\n",
    "\n",
    "# 4) Split the data to train and test \n",
    "X_train, X_test, y_train, y_test = train_test_split(X, y, test_size=0.33)\n",
    "\n",
    "print(X_train.shape)\n",
    "print(y_train.shape)\n",
    "print(X_test.shape)\n",
    "print(y_test.shape)"
   ]
  },
  {
   "cell_type": "markdown",
   "metadata": {},
   "source": [
    "## Methods\n",
    "\n",
    "1) Sklearn Method No.1: Stochastic Gradient Descent (SGD) <br>\n",
    "2) Sklearn Method No.2: Random Forest (RF) <br>\n",
    "3) Tensorflow Method: SGD <br>"
   ]
  },
  {
   "cell_type": "markdown",
   "metadata": {},
   "source": [
    "### SKLearn Method 1: Stochastic Gradient Descent (SGD)"
   ]
  },
  {
   "cell_type": "markdown",
   "metadata": {},
   "source": [
    "Below is the code for building SGD Classifier models. Three total SGD Classifier models were built. Each has a hyperparameter tuned. The hyperparameter is the alpha parameter. The alpha parameter can minimize the 'loss' of the overall function. The default configuration for this hyperparameter is 0.00001. The first uses the default, the second uses an alpha value of 0.00100, and the third uses and alpha value of 1.0000. \n",
    "\n",
    "The ROC curve plots comparing each of the SGD Classifiers is then shown as a visual for how hyperparameter tuning affects the ROC curve plot. This should be used to see which of the three SGD Classifiers is better. "
   ]
  },
  {
   "cell_type": "code",
   "execution_count": 3,
   "metadata": {},
   "outputs": [],
   "source": [
    "# Create a set of 3 SGD Classifier models\n",
    "\n",
    "\n",
    "# Use hyperparameter tuning. The hyperparameter to be tuned will be the alpha parameter. \n",
    "# The default is 0.00001. This alpha parameter will be adjusted to 0.00100, and then to\n",
    "# 1.0000. \n",
    "\n",
    "\n",
    "# SGD Classifier with hyperparameter alpha value 0.00001\n",
    "sgd_clf = SGDClassifier(loss='hinge', alpha=0.00001)\n",
    "sgd_clf.fit(X_train,y_train)\n",
    "sgd_preds = sgd_clf.decision_function(X_test)\n",
    "sgd_fpr, sgd_tpr, sgd_threshold = metrics.roc_curve(y_test, sgd_preds)\n",
    "sgd_roc_auc = metrics.auc(sgd_fpr, sgd_tpr)\n",
    "\n",
    "# SGD Classifier with hyperparameter alpha value 0.00100\n",
    "sgd_clf_two = SGDClassifier(loss='hinge', alpha=0.00100)\n",
    "sgd_clf_two.fit(X_train,y_train)\n",
    "sgd_preds_two = sgd_clf_two.decision_function(X_test)\n",
    "sgd_fpr_two, sgd_tpr_two, sgd_threshold_two = metrics.roc_curve(y_test, sgd_preds_two)\n",
    "sgd_roc_auc_two = metrics.auc(sgd_fpr_two, sgd_tpr_two)\n",
    "\n",
    "# SGD Classifier with hyperparameter alpha value 1.00000\n",
    "sgd_clf_three = SGDClassifier(loss='hinge', alpha=1.00000)\n",
    "sgd_clf_three.fit(X_train,y_train)\n",
    "sgd_preds_three = sgd_clf_three.decision_function(X_test)\n",
    "sgd_fpr_three, sgd_tpr_three, sgd_threshold_three = metrics.roc_curve(y_test, sgd_preds_three)\n",
    "sgd_roc_auc_three = metrics.auc(sgd_fpr_three, sgd_tpr_three)"
   ]
  },
  {
   "cell_type": "code",
   "execution_count": 5,
   "metadata": {},
   "outputs": [
    {
     "data": {
      "text/plain": [
       "Text(0.5, 0, 'False Positive Rate')"
      ]
     },
     "execution_count": 5,
     "metadata": {},
     "output_type": "execute_result"
    },
    {
     "data": {
      "image/png": "[encoded data removed]",
      "text/plain": [
       "<Figure size 432x288 with 1 Axes>"
      ]
     },
     "metadata": {
      "needs_background": "light"
     },
     "output_type": "display_data"
    }
   ],
   "source": [
    "plt.title('ROC - SGD w/ hyperparam tuning')\n",
    "plt.plot(sgd_fpr, sgd_tpr, 'b', label = 'AUC_SGD = %0.2f' % sgd_roc_auc, color='green')\n",
    "plt.plot(sgd_fpr_two, sgd_tpr_two, 'b', label = 'AUC_SGD_2 = %0.2f' % sgd_roc_auc_two, color='blue')\n",
    "plt.plot(sgd_fpr_three, sgd_tpr_three, 'b', label = 'AUC_SGD_3 = %0.2f' % sgd_roc_auc_three, color='orange')\n",
    "plt.legend(loc = 'lower right')\n",
    "plt.plot([0, 1], [0, 1],'r--')\n",
    "plt.xlim([0, 1])\n",
    "plt.ylim([0, 1])\n",
    "plt.ylabel('True Positive Rate')\n",
    "plt.xlabel('False Positive Rate')"
   ]
  },
  {
   "cell_type": "markdown",
   "metadata": {},
   "source": [
    "### SKLearn Method 2: Logistic Regression"
   ]
  },
  {
   "cell_type": "markdown",
   "metadata": {},
   "source": [
    "Below is the code for the SKLearn Logistic Regression models. There are three created: each one has a hyperparameter tuned. The hyperparameter chosen for tuning was the regularization factor. The first does not use any regularization, the second uses the L1 norm, and the third uses the L2 norm.\n",
    "\n",
    "Below the code is the ROC curve plot meant for comparing each of these three Logistic Regression models to see how hyperparameter tuning affects each of the models and to see which has a better AUC. "
   ]
  },
  {
   "cell_type": "code",
   "execution_count": 6,
   "metadata": {},
   "outputs": [],
   "source": [
    "# Create a set of 3 LogisticRegression models\n",
    "\n",
    "# Use hyperparameter tuning. The hyperparameter to be tuned will be the regularizer. \n",
    "# The first will use no regularization. The second will use Lasso (L1 norm). The third will use\n",
    "# Ridge (L2 norm).\n",
    "\n",
    "\n",
    "\n",
    "# Logistic Regression with NO regularization\n",
    "logreg_clf=LogisticRegression(solver='sag', penalty='none')\n",
    "\n",
    "logreg_clf.fit(X_train,y_train)\n",
    "logreg_probs = logreg_clf.predict_proba(X_test)\n",
    "logreg_preds = logreg_probs[:,1]\n",
    "logreg_fpr, logreg_tpr, logreg_threshold = metrics.roc_curve(y_test, logreg_preds)\n",
    "logreg_roc_auc = metrics.auc(logreg_fpr, logreg_tpr)\n",
    "\n",
    "\n",
    "# Logistic Regression with L1 norm (Lasso)\n",
    "logreg_clf_2=LogisticRegression(solver='liblinear', penalty='l1')\n",
    "\n",
    "logreg_clf_2.fit(X_train,y_train)\n",
    "logreg_probs_2 = logreg_clf_2.predict_proba(X_test)\n",
    "logreg_preds_2 = logreg_probs_2[:,1]\n",
    "logreg_fpr_2, logreg_tpr_2, logreg_threshold_2 = metrics.roc_curve(y_test, logreg_preds_2)\n",
    "logreg_roc_auc_2 = metrics.auc(logreg_fpr_2, logreg_tpr_2)\n",
    "\n",
    "\n",
    "# Logistic Regression with L2 norm (Ridge)\n",
    "logreg_clf_3=LogisticRegression(solver='liblinear', penalty='l2')\n",
    "\n",
    "logreg_clf_3.fit(X_train,y_train)\n",
    "logreg_probs_3 = logreg_clf_3.predict_proba(X_test)\n",
    "logreg_preds_3 = logreg_probs_3[:,1]\n",
    "logreg_fpr_3, logreg_tpr_3, logreg_threshold_3 = metrics.roc_curve(y_test, logreg_preds_3)\n",
    "logreg_roc_auc_3 = metrics.auc(logreg_fpr_3, logreg_tpr_3)"
   ]
  },
  {
   "cell_type": "code",
   "execution_count": 7,
   "metadata": {},
   "outputs": [
    {
     "data": {
      "text/plain": [
       "Text(0.5, 0, 'False Positive Rate')"
      ]
     },
     "execution_count": 7,
     "metadata": {},
     "output_type": "execute_result"
    },
    {
     "data": {
      "image/png": "[encoded data removed]",
      "text/plain": [
       "<Figure size 432x288 with 1 Axes>"
      ]
     },
     "metadata": {
      "needs_background": "light"
     },
     "output_type": "display_data"
    }
   ],
   "source": [
    "plt.title('ROC - LogReg w/ hyperparam tuning')\n",
    "plt.plot(logreg_fpr, logreg_tpr, 'b', label = 'AUC_LOGREG = %0.2f' % logreg_roc_auc, color='red')\n",
    "plt.plot(logreg_fpr_2, logreg_tpr_2, 'b', label = 'AUC_LOGREG_L1 = %0.2f' % logreg_roc_auc_2, color='blue')\n",
    "plt.plot(logreg_fpr_3, logreg_tpr_3, 'b', label = 'AUC_LOGREG_L2 = %0.2f' % logreg_roc_auc_3, color='green')\n",
    "plt.legend(loc = 'lower right')\n",
    "plt.plot([0, 1], [0, 1],'r--')\n",
    "plt.xlim([0, 1])\n",
    "plt.ylim([0, 1])\n",
    "plt.ylabel('True Positive Rate')\n",
    "plt.xlabel('False Positive Rate')"
   ]
  },
  {
   "cell_type": "markdown",
   "metadata": {},
   "source": [
    "### Tensorflow Method: Sequential Network with Adam optimizer"
   ]
  },
  {
   "cell_type": "markdown",
   "metadata": {},
   "source": [
    "The final model here uses Tensorflow to build a Sequential Neural Network."
   ]
  },
  {
   "cell_type": "code",
   "execution_count": 8,
   "metadata": {},
   "outputs": [],
   "source": [
    "# Create a Sequential Network with SGD optimizer \n",
    "\n",
    "# Load train and test data to tf\n",
    "train_tensor = tf.data.Dataset.from_tensor_slices((X_train.values,y_train.values))\n",
    "test_tensor = tf.data.Dataset.from_tensor_slices((X_test.values,y_test.values))\n",
    "\n",
    "train_batch = train_tensor.shuffle(len(X_train)).batch(1)\n",
    "test_batch = test_tensor.shuffle(len(X_test)).batch(1)\n",
    "\n",
    "EPOCHS = 100\n",
    "\n",
    "# Create neural network using Stochastic Gradient Descent\n",
    "# SGD is efficient at processing large datasets\n",
    "# The activation function for the final layer is 'sigmoid' because\n",
    "# this particular problem is a binary classifier.\n",
    "nn_clf = tf.keras.Sequential([\n",
    "    tf.keras.layers.Dense(200, input_dim=9, activation='relu'),\n",
    "    \n",
    "    tf.keras.layers.Dense(100, activation='relu'),\n",
    "    \n",
    "    tf.keras.layers.Dense(100, activation='relu'),\n",
    "    \n",
    "    tf.keras.layers.Dense(1, activation='sigmoid')\n",
    "    \n",
    "])\n",
    "\n",
    "nn_clf.compile(loss='binary_crossentropy',optimizer='adam',metrics=['accuracy'])"
   ]
  },
  {
   "cell_type": "code",
   "execution_count": 9,
   "metadata": {},
   "outputs": [
    {
     "name": "stdout",
     "output_type": "stream",
     "text": [
      "Epoch 1/100\n",
      "20100/20100 [==============================] - 116s 6ms/step - loss: 324.7440 - accuracy: 0.9952tep - loss: 327.2021 -  - 115s 6ms/step - loss: 3  - 116s 6ms/step - loss: 324.8409 - accuracy:\n",
      "Epoch 2/100\n",
      "20100/20100 [==============================] - 73s 4ms/step - loss: 103.9476 - accuracy: 0.9956\n",
      "Epoch 3/100\n",
      "20100/20100 [==============================] - 72s 4ms/step - loss: 177.6248 - accuracy: 0.9959\n",
      "Epoch 4/100\n",
      "20100/20100 [==============================] - 78s 4ms/step - loss: 7.7171 - accuracy: 0.9948\n",
      "Epoch 5/100\n",
      "20100/20100 [==============================] - 76s 4ms/step - loss: 11.5588 - accuracy: 0.9943\n",
      "Epoch 6/100\n",
      "20100/20100 [==============================] - 74s 4ms/step - loss: 0.5060 - accuracy: 0.9969\n",
      "Epoch 7/100\n",
      "20100/20100 [==============================] - 77s 4ms/step - loss: 3.7742 - accuracy: 0.9971\n",
      "Epoch 8/100\n",
      "20100/20100 [==============================] - 79s 4ms/step - loss: 6.4526 - accuracy: 0.9966\n",
      "Epoch 9/100\n",
      "20100/20100 [==============================] - 77s 4ms/step - loss: 0.4855 - accuracy: 0.9974\n",
      "Epoch 10/100\n",
      "20100/20100 [==============================] - 75s 4ms/step - loss: 0.9372 - accuracy: 0.9973\n",
      "Epoch 11/100\n",
      "20100/20100 [==============================] - 78s 4ms/step - loss: 1.9224 - accuracy: 0.9973\n",
      "Epoch 12/100\n",
      "20100/20100 [==============================] - 77s 4ms/step - loss: 0.0219 - accuracy: 0.9974\n",
      "Epoch 13/100\n",
      "20100/20100 [==============================] - 78s 4ms/step - loss: 0.0323 - accuracy: 0.9974\n",
      "Epoch 14/100\n",
      "20100/20100 [==============================] - 79s 4ms/step - loss: 0.2342 - accuracy: 0.9974\n",
      "Epoch 15/100\n",
      "20100/20100 [==============================] - 76s 4ms/step - loss: 0.4853 - accuracy: 0.9974\n",
      "Epoch 16/100\n",
      "20100/20100 [==============================] - 77s 4ms/step - loss: 6.1900 - accuracy: 0.9975\n",
      "Epoch 17/100\n",
      "20100/20100 [==============================] - 76s 4ms/step - loss: 0.3141 - accuracy: 0.9974\n",
      "Epoch 18/100\n",
      "20100/20100 [==============================] - 75s 4ms/step - loss: 0.0319 - accuracy: 0.9975\n",
      "Epoch 19/100\n",
      "20100/20100 [==============================] - 75s 4ms/step - loss: 0.0584 - accuracy: 0.9975\n",
      "Epoch 20/100\n",
      "20100/20100 [==============================] - 76s 4ms/step - loss: 18.6237 - accuracy: 0.9975\n",
      "Epoch 21/100\n",
      "20100/20100 [==============================] - 68s 3ms/step - loss: 0.0243 - accuracy: 0.9975\n",
      "Epoch 22/100\n",
      "20100/20100 [==============================] - 62s 3ms/step - loss: 0.0921 - accuracy: 0.9975\n",
      "Epoch 23/100\n",
      "20100/20100 [==============================] - 48s 2ms/step - loss: 2.5174 - accuracy: 0.9975\n",
      "Epoch 24/100\n",
      "20100/20100 [==============================] - 64s 3ms/step - loss: 0.0460 - accuracy: 0.9974\n",
      "Epoch 25/100\n",
      "20100/20100 [==============================] - 82s 4ms/step - loss: 0.0173 - accuracy: 0.9974\n",
      "Epoch 26/100\n",
      "20100/20100 [==============================] - 94s 5ms/step - loss: 6.7217 - accuracy: 0.9974\n",
      "Epoch 27/100\n",
      "20100/20100 [==============================] - 89s 4ms/step - loss: 0.0908 - accuracy: 0.9974\n",
      "Epoch 28/100\n",
      "20100/20100 [==============================] - 76s 4ms/step - loss: 0.0449 - accuracy: 0.9974\n",
      "Epoch 29/100\n",
      "20100/20100 [==============================] - 52s 3ms/step - loss: 10.2926 - accuracy: 0.9971\n",
      "Epoch 30/100\n",
      "20100/20100 [==============================] - 77s 4ms/step - loss: 0.1031 - accuracy: 0.9975\n",
      "Epoch 31/100\n",
      "20100/20100 [==============================] - 84s 4ms/step - loss: 14.5915 - accuracy: 0.9971\n",
      "Epoch 32/100\n",
      "20100/20100 [==============================] - 86s 4ms/step - loss: 3.4002 - accuracy: 0.9975\n",
      "Epoch 33/100\n",
      "20100/20100 [==============================] - 63s 3ms/step - loss: 0.1392 - accuracy: 0.9974\n",
      "Epoch 34/100\n",
      "20100/20100 [==============================] - 57s 3ms/step - loss: 0.8523 - accuracy: 0.9971\n",
      "Epoch 35/100\n",
      "20100/20100 [==============================] - 64s 3ms/step - loss: 0.0167 - accuracy: 0.9975\n",
      "Epoch 36/100\n",
      "20100/20100 [==============================] - 58s 3ms/step - loss: 5.1308 - accuracy: 0.9975\n",
      "Epoch 37/100\n",
      "20100/20100 [==============================] - 84s 4ms/step - loss: 0.2533 - accuracy: 0.9974\n",
      "Epoch 38/100\n",
      "20100/20100 [==============================] - 65s 3ms/step - loss: 0.0178 - accuracy: 0.9975\n",
      "Epoch 39/100\n",
      "20100/20100 [==============================] - 67s 3ms/step - loss: 0.0158 - accuracy: 0.9975\n",
      "Epoch 40/100\n",
      "20100/20100 [==============================] - 74s 4ms/step - loss: 2.7309 - accuracy: 0.9974\n",
      "Epoch 41/100\n",
      "20100/20100 [==============================] - 62s 3ms/step - loss: 0.0426 - accuracy: 0.9975\n",
      "Epoch 42/100\n",
      "20100/20100 [==============================] - 55s 3ms/step - loss: 0.0153 - accuracy: 0.9975\n",
      "Epoch 43/100\n",
      "20100/20100 [==============================] - 75s 4ms/step - loss: 0.1821 - accuracy: 0.9975\n",
      "Epoch 44/100\n",
      "20100/20100 [==============================] - 52s 3ms/step - loss: 0.0581 - accuracy: 0.9975\n",
      "Epoch 45/100\n",
      "20100/20100 [==============================] - 51s 3ms/step - loss: 2.5124 - accuracy: 0.9975\n",
      "Epoch 46/100\n",
      "20100/20100 [==============================] - 80s 4ms/step - loss: 0.0166 - accuracy: 0.9975\n",
      "Epoch 47/100\n",
      "20100/20100 [==============================] - 79s 4ms/step - loss: 0.6460 - accuracy: 0.9974\n",
      "Epoch 48/100\n",
      "20100/20100 [==============================] - 80s 4ms/step - loss: 0.0585 - accuracy: 0.9974\n",
      "Epoch 49/100\n",
      "20100/20100 [==============================] - 55s 3ms/step - loss: 0.0302 - accuracy: 0.9974\n",
      "Epoch 50/100\n",
      "20100/20100 [==============================] - 62s 3ms/step - loss: 0.0368 - accuracy: 0.9975\n",
      "Epoch 51/100\n",
      "20100/20100 [==============================] - 74s 4ms/step - loss: 0.0502 - accuracy: 0.9975\n",
      "Epoch 52/100\n",
      "20100/20100 [==============================] - 61s 3ms/step - loss: 0.0194 - accuracy: 0.9975\n",
      "Epoch 53/100\n",
      "20100/20100 [==============================] - 66s 3ms/step - loss: 0.0387 - accuracy: 0.9975\n",
      "Epoch 54/100\n",
      "20100/20100 [==============================] - 59s 3ms/step - loss: 0.0626 - accuracy: 0.9975\n",
      "Epoch 55/100\n",
      "20100/20100 [==============================] - 73s 4ms/step - loss: 0.0305 - accuracy: 0.9974\n",
      "Epoch 56/100\n",
      "20100/20100 [==============================] - 66s 3ms/step - loss: 27.2913 - accuracy: 0.9971\n",
      "Epoch 57/100\n",
      "20100/20100 [==============================] - 52s 3ms/step - loss: 0.5718 - accuracy: 0.9972\n",
      "Epoch 58/100\n",
      "20100/20100 [==============================] - 66s 3ms/step - loss: 0.0226 - accuracy: 0.9974\n",
      "Epoch 59/100\n",
      "20100/20100 [==============================] - 71s 4ms/step - loss: 0.0476 - accuracy: 0.9974\n",
      "Epoch 60/100\n",
      "20100/20100 [==============================] - 65s 3ms/step - loss: 0.0305 - accuracy: 0.9974\n",
      "Epoch 61/100\n",
      "20100/20100 [==============================] - 58s 3ms/step - loss: 0.0248 - accuracy: 0.9975\n",
      "Epoch 62/100\n",
      "20100/20100 [==============================] - 55s 3ms/step - loss: 0.0154 - accuracy: 0.9975\n",
      "Epoch 63/100\n",
      "20100/20100 [==============================] - 59s 3ms/step - loss: 0.0557 - accuracy: 0.9975\n",
      "Epoch 64/100\n",
      "20100/20100 [==============================] - 74s 4ms/step - loss: 1.0515 - accuracy: 0.9974\n",
      "Epoch 65/100\n",
      "20100/20100 [==============================] - 64s 3ms/step - loss: 0.2400 - accuracy: 0.9973\n",
      "Epoch 66/100\n",
      "20100/20100 [==============================] - 76s 4ms/step - loss: 0.1710 - accuracy: 0.9973\n",
      "Epoch 67/100\n",
      "20100/20100 [==============================] - 61s 3ms/step - loss: 0.1609 - accuracy: 0.9975\n",
      "Epoch 68/100\n",
      "20100/20100 [==============================] - 65s 3ms/step - loss: 0.0316 - accuracy: 0.9975\n",
      "Epoch 69/100\n",
      "20100/20100 [==============================] - 91s 5ms/step - loss: 0.0263 - accuracy: 0.9974\n",
      "Epoch 70/100\n",
      "20100/20100 [==============================] - 85s 4ms/step - loss: 0.2292 - accuracy: 0.9974\n",
      "Epoch 71/100\n",
      "20100/20100 [==============================] - 58s 3ms/step - loss: 0.5727 - accuracy: 0.9974\n",
      "Epoch 72/100\n",
      "20100/20100 [==============================] - 68s 3ms/step - loss: 0.0288 - accuracy: 0.9974\n",
      "Epoch 73/100\n",
      "20100/20100 [==============================] - 64s 3ms/step - loss: 0.0435 - accuracy: 0.9974\n",
      "Epoch 74/100\n",
      "20100/20100 [==============================] - 69s 3ms/step - loss: 0.0226 - accuracy: 0.9975\n",
      "Epoch 75/100\n",
      "20100/20100 [==============================] - 70s 3ms/step - loss: 0.0545 - accuracy: 0.9975\n",
      "Epoch 76/100\n",
      "20100/20100 [==============================] - 78s 4ms/step - loss: 20.0767 - accuracy: 0.9968\n",
      "Epoch 77/100\n",
      "20100/20100 [==============================] - 86s 4ms/step - loss: 0.2606 - accuracy: 0.9974\n",
      "Epoch 78/100\n",
      "20100/20100 [==============================] - 69s 3ms/step - loss: 0.0193 - accuracy: 0.9974\n",
      "Epoch 79/100\n",
      "20100/20100 [==============================] - 75s 4ms/step - loss: 0.0605 - accuracy: 0.9974\n",
      "Epoch 80/100\n",
      "20100/20100 [==============================] - 70s 3ms/step - loss: 0.0355 - accuracy: 0.9974\n",
      "Epoch 81/100\n",
      "20100/20100 [==============================] - 73s 4ms/step - loss: 0.0641 - accuracy: 0.9974\n",
      "Epoch 82/100\n",
      "20100/20100 [==============================] - 62s 3ms/step - loss: 0.0301 - accuracy: 0.9975\n",
      "Epoch 83/100\n",
      "20100/20100 [==============================] - 77s 4ms/step - loss: 0.1698 - accuracy: 0.9974\n",
      "Epoch 84/100\n",
      "20100/20100 [==============================] - 70s 4ms/step - loss: 0.0681 - accuracy: 0.9974\n",
      "Epoch 85/100\n",
      "20100/20100 [==============================] - 98s 5ms/step - loss: 0.2090 - accuracy: 0.9974\n",
      "Epoch 86/100\n",
      "20100/20100 [==============================] - 78s 4ms/step - loss: 0.0154 - accuracy: 0.9975\n",
      "Epoch 87/100\n",
      "20100/20100 [==============================] - 84s 4ms/step - loss: 0.0353 - accuracy: 0.9975\n",
      "Epoch 88/100\n",
      "20100/20100 [==============================] - 84s 4ms/step - loss: 0.0916 - accuracy: 0.9974\n",
      "Epoch 89/100\n",
      "20100/20100 [==============================] - 69s 3ms/step - loss: 2.7992 - accuracy: 0.9974\n",
      "Epoch 90/100\n",
      "20100/20100 [==============================] - 68s 3ms/step - loss: 0.7004 - accuracy: 0.9974\n",
      "Epoch 91/100\n",
      "20100/20100 [==============================] - 77s 4ms/step - loss: 0.0427 - accuracy: 0.9975\n",
      "Epoch 92/100\n",
      "20100/20100 [==============================] - 112s 6ms/step - loss: 0.3144 - accuracy: 0.9975\n",
      "Epoch 93/100\n",
      "20100/20100 [==============================] - 78s 4ms/step - loss: 0.6143 - accuracy: 0.9972\n",
      "Epoch 94/100\n",
      "20100/20100 [==============================] - 77s 4ms/step - loss: 49.1922 - accuracy: 0.9974\n",
      "Epoch 95/100\n",
      "20100/20100 [==============================] - 80s 4ms/step - loss: 0.0152 - accuracy: 0.9975\n",
      "Epoch 96/100\n",
      "20100/20100 [==============================] - 93s 5ms/step - loss: 0.0745 - accuracy: 0.9974\n",
      "Epoch 97/100\n",
      "20100/20100 [==============================] - 88s 4ms/step - loss: 0.6151 - accuracy: 0.9974\n",
      "Epoch 98/100\n",
      "20100/20100 [==============================] - 76s 4ms/step - loss: 3.5939 - accuracy: 0.9975\n",
      "Epoch 99/100\n",
      "20100/20100 [==============================] - 78s 4ms/step - loss: 0.1987 - accuracy: 0.9974\n",
      "Epoch 100/100\n",
      "20100/20100 [==============================] - 84s 4ms/step - loss: 0.9006 - accuracy: 0.9974\n"
     ]
    }
   ],
   "source": [
    "#NOTE: for sanity check, try setting epoch=2 just to check that it can finish successfully\n",
    "nn_clf_history=nn_clf.fit(train_batch,epochs=EPOCHS)"
   ]
  },
  {
   "cell_type": "code",
   "execution_count": 10,
   "metadata": {},
   "outputs": [
    {
     "name": "stdout",
     "output_type": "stream",
     "text": [
      "9900/9900 [==============================] - 32s 3ms/step - loss: 32.3684 - accuracy: 0.9967\n"
     ]
    },
    {
     "data": {
      "text/plain": [
       "[32.368390888774655, 0.99666667]"
      ]
     },
     "execution_count": 10,
     "metadata": {},
     "output_type": "execute_result"
    }
   ],
   "source": [
    "nn_clf.evaluate(test_batch)"
   ]
  },
  {
   "cell_type": "code",
   "execution_count": 11,
   "metadata": {},
   "outputs": [
    {
     "name": "stdout",
     "output_type": "stream",
     "text": [
      "WARNING:tensorflow:Falling back from v2 loop because of error: Failed to find data adapter that can handle input: <class 'pandas.core.frame.DataFrame'>, <class 'NoneType'>\n"
     ]
    }
   ],
   "source": [
    "nn_preds = nn_clf.predict(X_test).ravel()"
   ]
  },
  {
   "cell_type": "markdown",
   "metadata": {},
   "source": [
    "## Results"
   ]
  },
  {
   "cell_type": "markdown",
   "metadata": {},
   "source": [
    "### Comparison Table"
   ]
  },
  {
   "cell_type": "markdown",
   "metadata": {},
   "source": [
    "| Metric/ Method  | SGD Class  | LogReg Class  | Tensorflow   |   |\n",
    "|---|---|---|---|---|\n",
    "|Accuracy| 0.99   |  0.99  |  0.99 |   |\n",
    "|Recall | 0.48  |  0.48 | 0.48  |   |\n",
    "|   |   |   |   |   |"
   ]
  },
  {
   "cell_type": "markdown",
   "metadata": {},
   "source": [
    "### Plots"
   ]
  },
  {
   "cell_type": "markdown",
   "metadata": {},
   "source": [
    "#### SKLearn SGD vs. Logistic Regression ROC Curve"
   ]
  },
  {
   "cell_type": "markdown",
   "metadata": {},
   "source": [
    "This plot compares the SGD Classifier (alpha parameter = 0.00001) to the Logistic Regression model (L1 norm regularization) to see which one is better. "
   ]
  },
  {
   "cell_type": "code",
   "execution_count": 16,
   "metadata": {},
   "outputs": [
    {
     "data": {
      "text/plain": [
       "Text(0.5, 0, 'False Positive Rate')"
      ]
     },
     "execution_count": 16,
     "metadata": {},
     "output_type": "execute_result"
    },
    {
     "data": {
      "image/png": "[encoded data removed]",
      "text/plain": [
       "<Figure size 432x288 with 1 Axes>"
      ]
     },
     "metadata": {
      "needs_background": "light"
     },
     "output_type": "display_data"
    }
   ],
   "source": [
    "plt.title('ROC - SGD and Logistic Regression')\n",
    "plt.plot(sgd_fpr, sgd_tpr, 'b', label = 'AUC_SGD = %0.2f' % sgd_roc_auc, color='green')\n",
    "plt.plot(logreg_fpr_2, logreg_tpr_2, 'b', label = 'AUC_LOGREG_L1 = %0.2f' % logreg_roc_auc_2, color='blue')\n",
    "plt.legend(loc = 'lower right')\n",
    "plt.plot([0, 1], [0, 1],'r--')\n",
    "plt.xlim([0, 1])\n",
    "plt.ylim([0, 1])\n",
    "plt.ylabel('True Positive Rate')\n",
    "plt.xlabel('False Positive Rate')"
   ]
  },
  {
   "cell_type": "markdown",
   "metadata": {},
   "source": [
    "##### SGD Accuracy and Recall"
   ]
  },
  {
   "cell_type": "code",
   "execution_count": 13,
   "metadata": {},
   "outputs": [
    {
     "name": "stdout",
     "output_type": "stream",
     "text": [
      "SGD - alpha = 0.00001, accuracy =  0.9949494949494949\n",
      "SGD - alpha = 0.00100, accuracy =  0.9964646464646465\n",
      "SGD - alpha = 1.00000, accuracy =  0.9971717171717172\n",
      "SGD - alpha = 0.00001, precision =  0.32653061224489793\n",
      "SGD - alpha = 0.00100, precision =  0.4642857142857143\n",
      "SGD - alpha = 1.00000, precision =  0.7272727272727273\n",
      "SGD - alpha = 0.00001, recall =  0.48484848484848486\n",
      "SGD - alpha = 0.00100, recall =  0.3939393939393939\n",
      "SGD - alpha = 1.00000, recall =  0.24242424242424243\n"
     ]
    }
   ],
   "source": [
    "y_sgdpred = sgd_clf.predict(X_test)\n",
    "y_sgdpred2 = sgd_clf_two.predict(X_test)\n",
    "y_sgdpred3 = sgd_clf_three.predict(X_test)\n",
    "\n",
    "\n",
    "print('SGD - alpha = 0.00001, accuracy = ', accuracy_score(y_test, y_sgdpred))\n",
    "print('SGD - alpha = 0.00100, accuracy = ', accuracy_score(y_test, y_sgdpred2))\n",
    "print('SGD - alpha = 1.00000, accuracy = ', accuracy_score(y_test, y_sgdpred3))\n",
    "\n",
    "print('SGD - alpha = 0.00001, precision = ', precision_score(y_test, y_sgdpred, pos_label=1))\n",
    "print('SGD - alpha = 0.00100, precision = ', precision_score(y_test, y_sgdpred2, pos_label=1))\n",
    "print('SGD - alpha = 1.00000, precision = ', precision_score(y_test, y_sgdpred3, pos_label=1))\n",
    "\n",
    "print('SGD - alpha = 0.00001, recall = ', recall_score(y_test, y_sgdpred, pos_label=1))\n",
    "print('SGD - alpha = 0.00100, recall = ', recall_score(y_test, y_sgdpred2, pos_label=1))\n",
    "print('SGD - alpha = 1.00000, recall = ', recall_score(y_test, y_sgdpred3, pos_label=1))"
   ]
  },
  {
   "cell_type": "markdown",
   "metadata": {},
   "source": [
    "##### Logistic Regression Accuracy and Recall"
   ]
  },
  {
   "cell_type": "code",
   "execution_count": 15,
   "metadata": {},
   "outputs": [
    {
     "name": "stdout",
     "output_type": "stream",
     "text": [
      "Logistic Regression (no regularization), accuracy =  0.9949494949494949\n",
      "Logistic Regression (L1 norm), accuracy =  0.9964646464646465\n",
      "Logistic Regression (L2 norm), accuracy =  0.9971717171717172\n",
      "Logistic Regression (no regularization), precision =  0.32653061224489793\n",
      "Logistic Regression (L1 norm), precision =  0.4642857142857143\n",
      "Logistic Regression (L2 norm), precision =  0.7272727272727273\n",
      "Logistic Regression (no regularization), recall =  0.48484848484848486\n",
      "Logistic Regression (L1 norm), recall =  0.3939393939393939\n",
      "Logistic Regression (L2 norm), recall =  0.24242424242424243\n"
     ]
    }
   ],
   "source": [
    "y_logregpred = logreg_clf.predict(X_test)\n",
    "y_logregpred2 = logreg_clf_2.predict(X_test)\n",
    "y_logregpred3 = logreg_clf_3.predict(X_test)\n",
    "\n",
    "print('Logistic Regression (no regularization), accuracy = ', accuracy_score(y_test, y_sgdpred))\n",
    "print('Logistic Regression (L1 norm), accuracy = ', accuracy_score(y_test, y_sgdpred2))\n",
    "print('Logistic Regression (L2 norm), accuracy = ', accuracy_score(y_test, y_sgdpred3))\n",
    "\n",
    "print('Logistic Regression (no regularization), precision = ', precision_score(y_test, y_sgdpred, pos_label=1))\n",
    "print('Logistic Regression (L1 norm), precision = ', precision_score(y_test, y_sgdpred2, pos_label=1))\n",
    "print('Logistic Regression (L2 norm), precision = ', precision_score(y_test, y_sgdpred3, pos_label=1))\n",
    "\n",
    "print('Logistic Regression (no regularization), recall = ', recall_score(y_test, y_sgdpred, pos_label=1))\n",
    "print('Logistic Regression (L1 norm), recall = ', recall_score(y_test, y_sgdpred2, pos_label=1))\n",
    "print('Logistic Regression (L2 norm), recall = ', recall_score(y_test, y_sgdpred3, pos_label=1))"
   ]
  },
  {
   "cell_type": "markdown",
   "metadata": {},
   "source": [
    "#### Tensorflow Sequential NN 'Adam' Optimizer"
   ]
  },
  {
   "cell_type": "code",
   "execution_count": 18,
   "metadata": {},
   "outputs": [
    {
     "name": "stdout",
     "output_type": "stream",
     "text": [
      "WARNING:tensorflow:Falling back from v2 loop because of error: Failed to find data adapter that can handle input: <class 'pandas.core.frame.DataFrame'>, <class 'NoneType'>\n"
     ]
    },
    {
     "data": {
      "text/plain": [
       "Text(0.5, 0, 'False Positive Rate')"
      ]
     },
     "execution_count": 18,
     "metadata": {},
     "output_type": "execute_result"
    },
    {
     "data": {
      "image/png": "[encoded data removed]",
      "text/plain": [
       "<Figure size 432x288 with 1 Axes>"
      ]
     },
     "metadata": {
      "needs_background": "light"
     },
     "output_type": "display_data"
    }
   ],
   "source": [
    "# Get class probabilities for nn - ignore the warning\n",
    "nn_preds = nn_clf.predict(X_test).ravel()\n",
    "\n",
    "# Get class probabilities, fpr, tpr and threshold for random forest.\n",
    "nn_fpr, nn_tpr, nn_threshold = metrics.roc_curve(y_test, nn_preds)\n",
    "nn_roc_auc = metrics.auc(nn_fpr, nn_tpr)\n",
    "\n",
    "# Plot ROC curve.\n",
    "plt.title('ROC')\n",
    "plt.plot(nn_fpr, nn_tpr, 'b', label = 'AUC_RF = %0.2f' % nn_roc_auc)\n",
    "plt.legend(loc = 'lower right')\n",
    "plt.plot([0, 1], [0, 1],'r--')\n",
    "plt.xlim([0, 1])\n",
    "plt.ylim([0, 1])\n",
    "plt.ylabel('True Positive Rate')\n",
    "plt.xlabel('False Positive Rate')"
   ]
  },
  {
   "cell_type": "code",
   "execution_count": 19,
   "metadata": {},
   "outputs": [
    {
     "name": "stdout",
     "output_type": "stream",
     "text": [
      "Tensorflow method, accuracy =  0.9949494949494949\n",
      "Tensorflow method, precision =  0.32653061224489793\n",
      "Tensorflow method, recall =  0.48484848484848486\n"
     ]
    }
   ],
   "source": [
    "y_nn = logreg_clf.predict(X_test)\n",
    "\n",
    "print('Tensorflow method, accuracy = ', accuracy_score(y_test, y_sgdpred))\n",
    "print('Tensorflow method, precision = ', precision_score(y_test, y_sgdpred, pos_label=1))\n",
    "print('Tensorflow method, recall = ', recall_score(y_test, y_sgdpred, pos_label=1))"
   ]
  },
  {
   "cell_type": "markdown",
   "metadata": {},
   "source": [
    "## Discussion"
   ]
  },
  {
   "cell_type": "markdown",
   "metadata": {},
   "source": [
    "We now must analyze our models to see if they satisfy the goals we initially set out to do in the project's Problem Description at the top. We can evaluate the success (or failure) of the models based on their recall rates, as well as their overall accuracy. We can also evaluate how fine-tuning certain hyperparameters in our models affected these outcomes.\n",
    "    \n",
    "##### The Data-Set Size and Adverse Effects\n",
    "\n",
    "Before jumping into the results, it's worth pointing out that only a portion of the total data-set size was actually used in this experiment. The original data-set consisted of over 6 million entries. It was found during this experiment that the Neural Network portion that used about 4 million entries for testing would take over 137 hours to complete. This, obviously, is not feasible since there is a time limit to this assignment. What was needed was a data-set size large enough to reasonably allow the models to make decent generalizations but also small enough for a Neural Network to build within just a few hours (this is so that I could troubleshoot errors and consider hyperparameter tuning in a timely manner). It was decided that 30,000 entries would be sufficient as a starting point. There are, of course, potential risks with doing this: the model may have too few entries to work with and may just \"memorize\" certain details without generalizing enough for testing. However, given the results above, I argue that 30,000 entries is a sufficient starting point (though, using more entries will be needed in the future to better fine-tune the models).\n",
    "    \n",
    "##### The Ojective: The Recall Rate and Hyperparameter Tuning\n",
    "\n",
    "Overall, the original objective of creating a model with a high recall rate was not reached. It was mentioned in the Problem Description that a good model would have a high recall rate. A model with a high recall rate has a lower number of False Negatives, meaning it doesn't classify truly fraudulent activity as not-fraudulent. In the financial world, one would value higer recall because false positives can always be evaluated further by financial analysts and allowed to pass upon further inspection. An ML model that fails to alert the financial analyst to truly fraudulent activity is not a good model. \n",
    "\n",
    "Here, it is clear that none of the models have a particularly high recall rate. None of their recall rate clears above 50% even after hyperparameter tuning, meaning that it is certainly possible for truly fraudulent activity to be overlooked by these models. It is possible that the reduction of 6 million entries from the original data-set to just the first 30,000 entries led to this problem: the data-set couldn't train properly enough and, therefore, could not classify truly fraudulent transactions as 'fraudulent'. In order to verify that this were the case, I would have to increase the number of entries used.\n",
    "\n",
    "However, it is quite clear that hyperparameter tuning in all cases did indeed affect the overall recall rates (either positively or negatively). For example, in the SKLearn SGD Classifier, increasing the alpha value that affects the loss function can greatly diminish the recall rate, despite postiively affecting the overall Area Under the Curve (AUC) of the ROC plot by bringing it closer to 1. Clearly, having an alpha value that diminishes the loss is imperative to getting a higher recall rate with SGD. Looking at Logistic Regression, it is also clear that using regularization (either the L1 norm or the L2 norm) can adversely affect the overall recall rate: the Logistic Regression model that was not regularized had a higher recall rate than those that used either the L1 or L2 norm. This could be because the dataset is so small that it doesn't need regularization. Perhaps with 6 million entries, regularization could've benefited the model's recall rate; however, in order to verify this, I would have to go back and increase the data-set.\n",
    "Nonetheless, it is clear that with Logistic Regression, a small dataset size might not need regularization. Finally, the Tensorflow Neural Network had a recall rate about as equal to the SKLearn SGD model (without alpha parameter tuning). \n",
    "\n",
    "##### Final Thoughts\n",
    "\n",
    "Clearly, there are significant improvements to be made to this experiment. A larger set of entries (> 30,000) will be needed for the models generalize \"well enough\"."
   ]
  }
 ],
 "metadata": {
  "kernelspec": {
   "display_name": "Python 3",
   "language": "python",
   "name": "python3"
  },
  "language_info": {
   "codemirror_mode": {
    "name": "ipython",
    "version": 3
   },
   "file_extension": ".py",
   "mimetype": "text/x-python",
   "name": "python",
   "nbconvert_exporter": "python",
   "pygments_lexer": "ipython3",
   "version": "3.6.9"
  }
 },
 "nbformat": 4,
 "nbformat_minor": 2
}
